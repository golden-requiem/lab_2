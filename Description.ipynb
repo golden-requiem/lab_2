{
    "metadata": {
        "kernelspec": {
            "name": "python3",
            "display_name": "Python 3 (ipykernel)",
            "language": "python"
        }
    },
    "nbformat": 4,
    "nbformat_minor": 2,
    "cells": [
        {
            "attachments": {},
            "cell_type": "markdown",
            "metadata": {},
            "source": [
                "# **Data Collection, Cleaning and Preparation**"
            ]
        },
        {
            "attachments": {},
            "cell_type": "markdown",
            "metadata": {},
            "source": [
                "In this lab you will clean and prepare data by following guidance provided in the notebooks accompanying the data set  of your choice. There are four operations to clean data used in supervised and unsupervised learning:\n",
                "* Completing missing information\n",
                "* Correcting aberrant values and outliers\n",
                "* Converting fields to the correct format for calculations and presentation\n",
                "* Creating new features for analysis\n",
                "\n",
                "In each of the data sets provided, you will get to apply one or more of these operations, to prepare the data.\n",
                "\n",
                "For the reinforcement learning problems, you will not have to clean the data. Instead, you will train a reinforcement learning model.\n",
                "\n",
                "To earn your wings, you will implement one of the learning algorithms from Lab 1 on your cleaned data.\n",
                ""
            ]
        },
        {
            "attachments": {},
            "cell_type": "markdown",
            "metadata": {},
            "source": [
                "Here is a summary of the proposed problems."
            ]
        },
        {
            "attachments": {},
            "cell_type": "markdown",
            "metadata": {},
            "source": [
                "**Reinforcement Learning**"
            ]
        },
        {
            "attachments": {},
            "cell_type": "markdown",
            "metadata": {},
            "source": [
                "* ***Autonomous driving***: This is a self driving continuous problem in which a racing car learns to stay in the lane.\n",
                "* ***Shower environment***: This is a custom environment that you will build and train to moderate the water temperature in the shower.\n",
                ""
            ]
        },
        {
            "attachments": {},
            "cell_type": "markdown",
            "metadata": {},
            "source": [
                "**Supervised Learning**"
            ]
        },
        {
            "attachments": {},
            "cell_type": "markdown",
            "metadata": {},
            "source": [
                "* ***Titanic survivors- Machine Learning from Disaster***: This is a record of the Titanic's 1912 voyage passenger list that is used to predict the survivors.\n",
                "* ***Drug Selection***: This is a data set of patients of one illness that is used to identify the right drug for a given patient.\n",
                "* ***Heart Disease Diagnosis***: This is a record of patients, that is used to predict the presence of heart disease in a patient."
            ]
        },
        {
            "attachments": {},
            "cell_type": "markdown",
            "metadata": {},
            "source": [
                "**Unsupervised Learning**"
            ]
        },
        {
            "attachments": {},
            "cell_type": "markdown",
            "metadata": {},
            "source": [
                "* ***Facebook live sellers***: This is a record of vendors who use Facebook for business. K-Means Clustering can be used to identify intrinsic groups with the data set that display the same status behavior.\n",
                "* ***Online retail***: This is a transnational data set which contains all the transactions occurring between 01/12/2010 and 09/12/2011 for a UK-based and registered non-store online retail."
            ]
        },
        {
            "attachments": {},
            "cell_type": "markdown",
            "metadata": {},
            "source": [
                "You can find more data sets to explore from online databases.\n",
                "\n",
                "\n",
                "* For supervised and unsupervised learning data\n",
                "    * kaggle.com: create an account and use the search tool to find data sets. Most data sets on kaggle have open source available for you to have an idea on how to start cleaning it. To direct your search, you can search for the specific algorithm that you're interested in, to only choose from data sets that have been tried with the algorithm.\n",
                "* For reinforcement learning data\n",
                "    * gym environments\n",
                "    * Solving the Lunar Landing Problem using Stable Baselines algorithm: [tutorial](https://youtu.be/nRHjymV2PX8), [code on github](https://github.com/nicknochnack/StableBaselinesRL). **Note:** The ACER library is only available in a previous version of stable_baselines that is compatible with tensorflow 1.5, which is not available on edStem. If interested in this problem, you can implement it outside of edStem and submit your code with screenshots of the succeful run on your computer.\n",
                "    * Datasets for Deep Data-Driven Reinforcement Learning (D4RL): [environments description](https://sites.google.com/view/d4rl/home), [code on github](https://github.com/rail-berkeley/d4rl).\n",
                "    * Note: Please inform the TA of any additional packages that you need to install if you choose to work on your own reinforcement learning problem.\n",
                ""
            ]
        },
        {
            "attachments": {},
            "cell_type": "markdown",
            "metadata": {},
            "source": [
                "**Jupyter shortcuts**\n",
                "\n",
                "Press Ctrl+return to run each section separately. Please note that some sections depend on the previous sections, and run them in order. You can run the whole program at once, by clicking the Run All button."
            ]
        }
    ]
}
